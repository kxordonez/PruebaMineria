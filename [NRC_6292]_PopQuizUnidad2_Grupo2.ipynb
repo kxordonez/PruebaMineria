{
 "cells": [
  {
   "cell_type": "markdown",
   "id": "a72665db",
   "metadata": {},
   "source": [
    "# Librerías"
   ]
  },
  {
   "cell_type": "code",
   "execution_count": 1,
   "id": "4da31a0d",
   "metadata": {},
   "outputs": [],
   "source": [
    "'''Librería para lectura de archivo csv'''\n",
    "import pandas as pd\n",
    "'''Librería de estadística para calcular la moda'''\n",
    "from statistics import mode\n",
    "'''Librería de calculos numéricos'''\n",
    "import numpy as np\n",
    "import seaborn as sb"
   ]
  },
  {
   "cell_type": "markdown",
   "id": "71e67245",
   "metadata": {},
   "source": [
    "# Lectura del Dataset"
   ]
  },
  {
   "cell_type": "code",
   "execution_count": 2,
   "id": "3903e780",
   "metadata": {},
   "outputs": [
    {
     "data": {
      "text/html": [
       "<div>\n",
       "<style scoped>\n",
       "    .dataframe tbody tr th:only-of-type {\n",
       "        vertical-align: middle;\n",
       "    }\n",
       "\n",
       "    .dataframe tbody tr th {\n",
       "        vertical-align: top;\n",
       "    }\n",
       "\n",
       "    .dataframe thead th {\n",
       "        text-align: right;\n",
       "    }\n",
       "</style>\n",
       "<table border=\"1\" class=\"dataframe\">\n",
       "  <thead>\n",
       "    <tr style=\"text-align: right;\">\n",
       "      <th></th>\n",
       "      <th>Unnamed: 0</th>\n",
       "      <th>Value</th>\n",
       "    </tr>\n",
       "  </thead>\n",
       "  <tbody>\n",
       "    <tr>\n",
       "      <th>0</th>\n",
       "      <td>China</td>\n",
       "      <td>1392730000</td>\n",
       "    </tr>\n",
       "    <tr>\n",
       "      <th>1</th>\n",
       "      <td>India</td>\n",
       "      <td>1352617328</td>\n",
       "    </tr>\n",
       "    <tr>\n",
       "      <th>2</th>\n",
       "      <td>US</td>\n",
       "      <td>326687501</td>\n",
       "    </tr>\n",
       "    <tr>\n",
       "      <th>3</th>\n",
       "      <td>Indonesia</td>\n",
       "      <td>267663435</td>\n",
       "    </tr>\n",
       "    <tr>\n",
       "      <th>4</th>\n",
       "      <td>Pakistan</td>\n",
       "      <td>212215030</td>\n",
       "    </tr>\n",
       "    <tr>\n",
       "      <th>...</th>\n",
       "      <td>...</td>\n",
       "      <td>...</td>\n",
       "    </tr>\n",
       "    <tr>\n",
       "      <th>178</th>\n",
       "      <td>Andorra</td>\n",
       "      <td>77006</td>\n",
       "    </tr>\n",
       "    <tr>\n",
       "      <th>179</th>\n",
       "      <td>Dominica</td>\n",
       "      <td>71625</td>\n",
       "    </tr>\n",
       "    <tr>\n",
       "      <th>180</th>\n",
       "      <td>Saint Kitts and Nevis</td>\n",
       "      <td>52441</td>\n",
       "    </tr>\n",
       "    <tr>\n",
       "      <th>181</th>\n",
       "      <td>Monaco</td>\n",
       "      <td>38682</td>\n",
       "    </tr>\n",
       "    <tr>\n",
       "      <th>182</th>\n",
       "      <td>Liechtenstein</td>\n",
       "      <td>37910</td>\n",
       "    </tr>\n",
       "  </tbody>\n",
       "</table>\n",
       "<p>183 rows × 2 columns</p>\n",
       "</div>"
      ],
      "text/plain": [
       "                Unnamed: 0       Value\n",
       "0                    China  1392730000\n",
       "1                    India  1352617328\n",
       "2                       US   326687501\n",
       "3                Indonesia   267663435\n",
       "4                 Pakistan   212215030\n",
       "..                     ...         ...\n",
       "178                Andorra       77006\n",
       "179               Dominica       71625\n",
       "180  Saint Kitts and Nevis       52441\n",
       "181                 Monaco       38682\n",
       "182          Liechtenstein       37910\n",
       "\n",
       "[183 rows x 2 columns]"
      ]
     },
     "execution_count": 2,
     "metadata": {},
     "output_type": "execute_result"
    }
   ],
   "source": [
    "'''Lee el dataset mediante la librería pandas'''\n",
    "df = pd.read_csv('population_2018.csv')\n",
    "'''Muestra el encabezado del dataset junto con sus registros totales y columnas'''\n",
    "df"
   ]
  },
  {
   "cell_type": "code",
   "execution_count": 3,
   "id": "4cea0e5c",
   "metadata": {},
   "outputs": [
    {
     "data": {
      "text/plain": [
       "Index(['Pais', 'Valor'], dtype='object')"
      ]
     },
     "execution_count": 3,
     "metadata": {},
     "output_type": "execute_result"
    }
   ],
   "source": [
    "'''renombre de columnas'''\n",
    "df.rename(columns={'Unnamed: 0':'Pais',\n",
    "                  'Value':'Valor'},\n",
    "         inplace=True)\n",
    "'''colunas renombradas'''\n",
    "df.columns"
   ]
  },
  {
   "cell_type": "code",
   "execution_count": 4,
   "id": "68241a88",
   "metadata": {},
   "outputs": [
    {
     "data": {
      "text/html": [
       "<div>\n",
       "<style scoped>\n",
       "    .dataframe tbody tr th:only-of-type {\n",
       "        vertical-align: middle;\n",
       "    }\n",
       "\n",
       "    .dataframe tbody tr th {\n",
       "        vertical-align: top;\n",
       "    }\n",
       "\n",
       "    .dataframe thead th {\n",
       "        text-align: right;\n",
       "    }\n",
       "</style>\n",
       "<table border=\"1\" class=\"dataframe\">\n",
       "  <thead>\n",
       "    <tr style=\"text-align: right;\">\n",
       "      <th></th>\n",
       "      <th>Pais</th>\n",
       "      <th>Valor</th>\n",
       "    </tr>\n",
       "  </thead>\n",
       "  <tbody>\n",
       "    <tr>\n",
       "      <th>0</th>\n",
       "      <td>China</td>\n",
       "      <td>1392730000</td>\n",
       "    </tr>\n",
       "    <tr>\n",
       "      <th>1</th>\n",
       "      <td>India</td>\n",
       "      <td>1352617328</td>\n",
       "    </tr>\n",
       "    <tr>\n",
       "      <th>2</th>\n",
       "      <td>US</td>\n",
       "      <td>326687501</td>\n",
       "    </tr>\n",
       "    <tr>\n",
       "      <th>3</th>\n",
       "      <td>Indonesia</td>\n",
       "      <td>267663435</td>\n",
       "    </tr>\n",
       "    <tr>\n",
       "      <th>4</th>\n",
       "      <td>Pakistan</td>\n",
       "      <td>212215030</td>\n",
       "    </tr>\n",
       "    <tr>\n",
       "      <th>...</th>\n",
       "      <td>...</td>\n",
       "      <td>...</td>\n",
       "    </tr>\n",
       "    <tr>\n",
       "      <th>178</th>\n",
       "      <td>Andorra</td>\n",
       "      <td>77006</td>\n",
       "    </tr>\n",
       "    <tr>\n",
       "      <th>179</th>\n",
       "      <td>Dominica</td>\n",
       "      <td>71625</td>\n",
       "    </tr>\n",
       "    <tr>\n",
       "      <th>180</th>\n",
       "      <td>Saint Kitts and Nevis</td>\n",
       "      <td>52441</td>\n",
       "    </tr>\n",
       "    <tr>\n",
       "      <th>181</th>\n",
       "      <td>Monaco</td>\n",
       "      <td>38682</td>\n",
       "    </tr>\n",
       "    <tr>\n",
       "      <th>182</th>\n",
       "      <td>Liechtenstein</td>\n",
       "      <td>37910</td>\n",
       "    </tr>\n",
       "  </tbody>\n",
       "</table>\n",
       "<p>183 rows × 2 columns</p>\n",
       "</div>"
      ],
      "text/plain": [
       "                      Pais       Valor\n",
       "0                    China  1392730000\n",
       "1                    India  1352617328\n",
       "2                       US   326687501\n",
       "3                Indonesia   267663435\n",
       "4                 Pakistan   212215030\n",
       "..                     ...         ...\n",
       "178                Andorra       77006\n",
       "179               Dominica       71625\n",
       "180  Saint Kitts and Nevis       52441\n",
       "181                 Monaco       38682\n",
       "182          Liechtenstein       37910\n",
       "\n",
       "[183 rows x 2 columns]"
      ]
     },
     "execution_count": 4,
     "metadata": {},
     "output_type": "execute_result"
    }
   ],
   "source": [
    "'''Lectura del dataset'''\n",
    "df"
   ]
  },
  {
   "cell_type": "markdown",
   "id": "4ad2ff22",
   "metadata": {},
   "source": [
    "# Medidas de Frecuencia"
   ]
  },
  {
   "cell_type": "markdown",
   "id": "1000c0fe",
   "metadata": {},
   "source": [
    "### Count"
   ]
  },
  {
   "cell_type": "code",
   "execution_count": 5,
   "id": "bb546869",
   "metadata": {},
   "outputs": [
    {
     "data": {
      "text/plain": [
       "1392730000    1\n",
       "5244363       1\n",
       "4999441       1\n",
       "4867309       1\n",
       "4841000       1\n",
       "             ..\n",
       "17351822      1\n",
       "17247807      1\n",
       "17231624      1\n",
       "17084357      1\n",
       "37910         1\n",
       "Name: Valor, Length: 183, dtype: int64"
      ]
     },
     "execution_count": 5,
     "metadata": {},
     "output_type": "execute_result"
    }
   ],
   "source": [
    "df.Valor.value_counts()"
   ]
  },
  {
   "cell_type": "markdown",
   "id": "5aad3ff6",
   "metadata": {},
   "source": [
    "## Frecuencia"
   ]
  },
  {
   "cell_type": "code",
   "execution_count": 6,
   "id": "b77377ca",
   "metadata": {},
   "outputs": [
    {
     "data": {
      "text/plain": [
       "China                  1\n",
       "Congo (Brazzaville)    1\n",
       "Costa Rica             1\n",
       "Ireland                1\n",
       "New Zealand            1\n",
       "                      ..\n",
       "Zambia                 1\n",
       "Guatemala              1\n",
       "Netherlands            1\n",
       "Ecuador                1\n",
       "Liechtenstein          1\n",
       "Name: Pais, Length: 183, dtype: int64"
      ]
     },
     "execution_count": 6,
     "metadata": {},
     "output_type": "execute_result"
    }
   ],
   "source": [
    "frec = pd.value_counts(df[\"Pais\"])\n",
    "frec"
   ]
  },
  {
   "cell_type": "markdown",
   "id": "f06ff04c",
   "metadata": {},
   "source": [
    "### Frecuencia absoluta"
   ]
  },
  {
   "cell_type": "code",
   "execution_count": 7,
   "id": "4821dc8b",
   "metadata": {},
   "outputs": [
    {
     "data": {
      "text/html": [
       "<div>\n",
       "<style scoped>\n",
       "    .dataframe tbody tr th:only-of-type {\n",
       "        vertical-align: middle;\n",
       "    }\n",
       "\n",
       "    .dataframe tbody tr th {\n",
       "        vertical-align: top;\n",
       "    }\n",
       "\n",
       "    .dataframe thead th {\n",
       "        text-align: right;\n",
       "    }\n",
       "</style>\n",
       "<table border=\"1\" class=\"dataframe\">\n",
       "  <thead>\n",
       "    <tr style=\"text-align: right;\">\n",
       "      <th></th>\n",
       "      <th>Frec_abs</th>\n",
       "    </tr>\n",
       "  </thead>\n",
       "  <tbody>\n",
       "    <tr>\n",
       "      <th>China</th>\n",
       "      <td>1</td>\n",
       "    </tr>\n",
       "    <tr>\n",
       "      <th>Congo (Brazzaville)</th>\n",
       "      <td>1</td>\n",
       "    </tr>\n",
       "    <tr>\n",
       "      <th>Costa Rica</th>\n",
       "      <td>1</td>\n",
       "    </tr>\n",
       "    <tr>\n",
       "      <th>Ireland</th>\n",
       "      <td>1</td>\n",
       "    </tr>\n",
       "    <tr>\n",
       "      <th>New Zealand</th>\n",
       "      <td>1</td>\n",
       "    </tr>\n",
       "    <tr>\n",
       "      <th>...</th>\n",
       "      <td>...</td>\n",
       "    </tr>\n",
       "    <tr>\n",
       "      <th>Zambia</th>\n",
       "      <td>1</td>\n",
       "    </tr>\n",
       "    <tr>\n",
       "      <th>Guatemala</th>\n",
       "      <td>1</td>\n",
       "    </tr>\n",
       "    <tr>\n",
       "      <th>Netherlands</th>\n",
       "      <td>1</td>\n",
       "    </tr>\n",
       "    <tr>\n",
       "      <th>Ecuador</th>\n",
       "      <td>1</td>\n",
       "    </tr>\n",
       "    <tr>\n",
       "      <th>Liechtenstein</th>\n",
       "      <td>1</td>\n",
       "    </tr>\n",
       "  </tbody>\n",
       "</table>\n",
       "<p>183 rows × 1 columns</p>\n",
       "</div>"
      ],
      "text/plain": [
       "                     Frec_abs\n",
       "China                       1\n",
       "Congo (Brazzaville)         1\n",
       "Costa Rica                  1\n",
       "Ireland                     1\n",
       "New Zealand                 1\n",
       "...                       ...\n",
       "Zambia                      1\n",
       "Guatemala                   1\n",
       "Netherlands                 1\n",
       "Ecuador                     1\n",
       "Liechtenstein               1\n",
       "\n",
       "[183 rows x 1 columns]"
      ]
     },
     "execution_count": 7,
     "metadata": {},
     "output_type": "execute_result"
    }
   ],
   "source": [
    "frec_df = pd.DataFrame(frec)\n",
    "frec_df.columns = [\"Frec_abs\"]\n",
    "frec_df"
   ]
  },
  {
   "cell_type": "markdown",
   "id": "f6145840",
   "metadata": {},
   "source": [
    "### frecuencia relativa en porcentaje"
   ]
  },
  {
   "cell_type": "code",
   "execution_count": 8,
   "id": "e9563f5f",
   "metadata": {},
   "outputs": [
    {
     "data": {
      "text/html": [
       "<div>\n",
       "<style scoped>\n",
       "    .dataframe tbody tr th:only-of-type {\n",
       "        vertical-align: middle;\n",
       "    }\n",
       "\n",
       "    .dataframe tbody tr th {\n",
       "        vertical-align: top;\n",
       "    }\n",
       "\n",
       "    .dataframe thead th {\n",
       "        text-align: right;\n",
       "    }\n",
       "</style>\n",
       "<table border=\"1\" class=\"dataframe\">\n",
       "  <thead>\n",
       "    <tr style=\"text-align: right;\">\n",
       "      <th></th>\n",
       "      <th>Frec_abs</th>\n",
       "      <th>Frec_Rel_%</th>\n",
       "    </tr>\n",
       "  </thead>\n",
       "  <tbody>\n",
       "    <tr>\n",
       "      <th>China</th>\n",
       "      <td>1</td>\n",
       "      <td>25.0</td>\n",
       "    </tr>\n",
       "    <tr>\n",
       "      <th>Congo (Brazzaville)</th>\n",
       "      <td>1</td>\n",
       "      <td>25.0</td>\n",
       "    </tr>\n",
       "    <tr>\n",
       "      <th>Costa Rica</th>\n",
       "      <td>1</td>\n",
       "      <td>25.0</td>\n",
       "    </tr>\n",
       "    <tr>\n",
       "      <th>Ireland</th>\n",
       "      <td>1</td>\n",
       "      <td>25.0</td>\n",
       "    </tr>\n",
       "    <tr>\n",
       "      <th>New Zealand</th>\n",
       "      <td>1</td>\n",
       "      <td>25.0</td>\n",
       "    </tr>\n",
       "    <tr>\n",
       "      <th>...</th>\n",
       "      <td>...</td>\n",
       "      <td>...</td>\n",
       "    </tr>\n",
       "    <tr>\n",
       "      <th>Zambia</th>\n",
       "      <td>1</td>\n",
       "      <td>25.0</td>\n",
       "    </tr>\n",
       "    <tr>\n",
       "      <th>Guatemala</th>\n",
       "      <td>1</td>\n",
       "      <td>25.0</td>\n",
       "    </tr>\n",
       "    <tr>\n",
       "      <th>Netherlands</th>\n",
       "      <td>1</td>\n",
       "      <td>25.0</td>\n",
       "    </tr>\n",
       "    <tr>\n",
       "      <th>Ecuador</th>\n",
       "      <td>1</td>\n",
       "      <td>25.0</td>\n",
       "    </tr>\n",
       "    <tr>\n",
       "      <th>Liechtenstein</th>\n",
       "      <td>1</td>\n",
       "      <td>25.0</td>\n",
       "    </tr>\n",
       "  </tbody>\n",
       "</table>\n",
       "<p>183 rows × 2 columns</p>\n",
       "</div>"
      ],
      "text/plain": [
       "                     Frec_abs  Frec_Rel_%\n",
       "China                       1        25.0\n",
       "Congo (Brazzaville)         1        25.0\n",
       "Costa Rica                  1        25.0\n",
       "Ireland                     1        25.0\n",
       "New Zealand                 1        25.0\n",
       "...                       ...         ...\n",
       "Zambia                      1        25.0\n",
       "Guatemala                   1        25.0\n",
       "Netherlands                 1        25.0\n",
       "Ecuador                     1        25.0\n",
       "Liechtenstein               1        25.0\n",
       "\n",
       "[183 rows x 2 columns]"
      ]
     },
     "execution_count": 8,
     "metadata": {},
     "output_type": "execute_result"
    }
   ],
   "source": [
    "frec_df[\"Frec_Rel_%\"] = 100*frec_df[\"Frec_abs\"]/len('Pais')\n",
    "frec_df"
   ]
  },
  {
   "cell_type": "markdown",
   "id": "128497aa",
   "metadata": {},
   "source": [
    "### Frecuencia relativa en porcentaje acumulada"
   ]
  },
  {
   "cell_type": "code",
   "execution_count": 9,
   "id": "3b9e6234",
   "metadata": {},
   "outputs": [
    {
     "data": {
      "text/html": [
       "<div>\n",
       "<style scoped>\n",
       "    .dataframe tbody tr th:only-of-type {\n",
       "        vertical-align: middle;\n",
       "    }\n",
       "\n",
       "    .dataframe tbody tr th {\n",
       "        vertical-align: top;\n",
       "    }\n",
       "\n",
       "    .dataframe thead th {\n",
       "        text-align: right;\n",
       "    }\n",
       "</style>\n",
       "<table border=\"1\" class=\"dataframe\">\n",
       "  <thead>\n",
       "    <tr style=\"text-align: right;\">\n",
       "      <th></th>\n",
       "      <th>Frec_abs</th>\n",
       "      <th>Frec_Rel_%</th>\n",
       "      <th>Frec_rel_%_acum</th>\n",
       "    </tr>\n",
       "  </thead>\n",
       "  <tbody>\n",
       "    <tr>\n",
       "      <th>China</th>\n",
       "      <td>1</td>\n",
       "      <td>25.0</td>\n",
       "      <td>25.0</td>\n",
       "    </tr>\n",
       "    <tr>\n",
       "      <th>Congo (Brazzaville)</th>\n",
       "      <td>1</td>\n",
       "      <td>25.0</td>\n",
       "      <td>50.0</td>\n",
       "    </tr>\n",
       "    <tr>\n",
       "      <th>Costa Rica</th>\n",
       "      <td>1</td>\n",
       "      <td>25.0</td>\n",
       "      <td>75.0</td>\n",
       "    </tr>\n",
       "    <tr>\n",
       "      <th>Ireland</th>\n",
       "      <td>1</td>\n",
       "      <td>25.0</td>\n",
       "      <td>100.0</td>\n",
       "    </tr>\n",
       "    <tr>\n",
       "      <th>New Zealand</th>\n",
       "      <td>1</td>\n",
       "      <td>25.0</td>\n",
       "      <td>125.0</td>\n",
       "    </tr>\n",
       "    <tr>\n",
       "      <th>...</th>\n",
       "      <td>...</td>\n",
       "      <td>...</td>\n",
       "      <td>...</td>\n",
       "    </tr>\n",
       "    <tr>\n",
       "      <th>Zambia</th>\n",
       "      <td>1</td>\n",
       "      <td>25.0</td>\n",
       "      <td>4475.0</td>\n",
       "    </tr>\n",
       "    <tr>\n",
       "      <th>Guatemala</th>\n",
       "      <td>1</td>\n",
       "      <td>25.0</td>\n",
       "      <td>4500.0</td>\n",
       "    </tr>\n",
       "    <tr>\n",
       "      <th>Netherlands</th>\n",
       "      <td>1</td>\n",
       "      <td>25.0</td>\n",
       "      <td>4525.0</td>\n",
       "    </tr>\n",
       "    <tr>\n",
       "      <th>Ecuador</th>\n",
       "      <td>1</td>\n",
       "      <td>25.0</td>\n",
       "      <td>4550.0</td>\n",
       "    </tr>\n",
       "    <tr>\n",
       "      <th>Liechtenstein</th>\n",
       "      <td>1</td>\n",
       "      <td>25.0</td>\n",
       "      <td>4575.0</td>\n",
       "    </tr>\n",
       "  </tbody>\n",
       "</table>\n",
       "<p>183 rows × 3 columns</p>\n",
       "</div>"
      ],
      "text/plain": [
       "                     Frec_abs  Frec_Rel_%  Frec_rel_%_acum\n",
       "China                       1        25.0             25.0\n",
       "Congo (Brazzaville)         1        25.0             50.0\n",
       "Costa Rica                  1        25.0             75.0\n",
       "Ireland                     1        25.0            100.0\n",
       "New Zealand                 1        25.0            125.0\n",
       "...                       ...         ...              ...\n",
       "Zambia                      1        25.0           4475.0\n",
       "Guatemala                   1        25.0           4500.0\n",
       "Netherlands                 1        25.0           4525.0\n",
       "Ecuador                     1        25.0           4550.0\n",
       "Liechtenstein               1        25.0           4575.0\n",
       "\n",
       "[183 rows x 3 columns]"
      ]
     },
     "execution_count": 9,
     "metadata": {},
     "output_type": "execute_result"
    }
   ],
   "source": [
    "Frec_rel_val = frec_df[\"Frec_Rel_%\"].values\n",
    "acum=[]\n",
    "valor_acum = 0\n",
    "for i in Frec_rel_val:\n",
    "    valor_acum = valor_acum + i\n",
    "    acum.append(valor_acum)\n",
    "    \n",
    "frec_df[\"Frec_rel_%_acum\"] = acum\n",
    "frec_df"
   ]
  },
  {
   "cell_type": "markdown",
   "id": "5a596a7c",
   "metadata": {},
   "source": [
    "# Descripción de estadísticas generales del Conjunto de Datos"
   ]
  },
  {
   "cell_type": "code",
   "execution_count": 10,
   "id": "5cd13f72",
   "metadata": {},
   "outputs": [
    {
     "data": {
      "text/html": [
       "<div>\n",
       "<style scoped>\n",
       "    .dataframe tbody tr th:only-of-type {\n",
       "        vertical-align: middle;\n",
       "    }\n",
       "\n",
       "    .dataframe tbody tr th {\n",
       "        vertical-align: top;\n",
       "    }\n",
       "\n",
       "    .dataframe thead th {\n",
       "        text-align: right;\n",
       "    }\n",
       "</style>\n",
       "<table border=\"1\" class=\"dataframe\">\n",
       "  <thead>\n",
       "    <tr style=\"text-align: right;\">\n",
       "      <th></th>\n",
       "      <th>Valor</th>\n",
       "    </tr>\n",
       "  </thead>\n",
       "  <tbody>\n",
       "    <tr>\n",
       "      <th>count</th>\n",
       "      <td>1.830000e+02</td>\n",
       "    </tr>\n",
       "    <tr>\n",
       "      <th>mean</th>\n",
       "      <td>4.124923e+07</td>\n",
       "    </tr>\n",
       "    <tr>\n",
       "      <th>std</th>\n",
       "      <td>1.480128e+08</td>\n",
       "    </tr>\n",
       "    <tr>\n",
       "      <th>min</th>\n",
       "      <td>3.791000e+04</td>\n",
       "    </tr>\n",
       "    <tr>\n",
       "      <th>25%</th>\n",
       "      <td>2.743863e+06</td>\n",
       "    </tr>\n",
       "    <tr>\n",
       "      <th>50%</th>\n",
       "      <td>9.630959e+06</td>\n",
       "    </tr>\n",
       "    <tr>\n",
       "      <th>75%</th>\n",
       "      <td>2.963154e+07</td>\n",
       "    </tr>\n",
       "    <tr>\n",
       "      <th>max</th>\n",
       "      <td>1.392730e+09</td>\n",
       "    </tr>\n",
       "  </tbody>\n",
       "</table>\n",
       "</div>"
      ],
      "text/plain": [
       "              Valor\n",
       "count  1.830000e+02\n",
       "mean   4.124923e+07\n",
       "std    1.480128e+08\n",
       "min    3.791000e+04\n",
       "25%    2.743863e+06\n",
       "50%    9.630959e+06\n",
       "75%    2.963154e+07\n",
       "max    1.392730e+09"
      ]
     },
     "execution_count": 10,
     "metadata": {},
     "output_type": "execute_result"
    }
   ],
   "source": [
    "'''Función describe para estadísticas del conjunto de datos'''\n",
    "df.describe()"
   ]
  },
  {
   "cell_type": "markdown",
   "id": "27d1833e",
   "metadata": {},
   "source": [
    "# Medidas de Tendencia Central"
   ]
  },
  {
   "cell_type": "markdown",
   "id": "b136873d",
   "metadata": {},
   "source": [
    "# Media"
   ]
  },
  {
   "cell_type": "code",
   "execution_count": 11,
   "id": "85469842",
   "metadata": {},
   "outputs": [
    {
     "data": {
      "text/plain": [
       "41249226.8"
      ]
     },
     "execution_count": 11,
     "metadata": {},
     "output_type": "execute_result"
    }
   ],
   "source": [
    "'''Cálculo de la media entre los casos postivos por prefectura agrupada'''\n",
    "gra_mean = np.round(df.Valor.mean(),1)\n",
    "'''Imprime el valor de los promedios por cada prefectura'''\n",
    "gra_mean"
   ]
  },
  {
   "cell_type": "markdown",
   "id": "613e628b",
   "metadata": {},
   "source": [
    "# Mediana"
   ]
  },
  {
   "cell_type": "code",
   "execution_count": 12,
   "id": "03465ab8",
   "metadata": {},
   "outputs": [
    {
     "data": {
      "text/plain": [
       "9630959.0"
      ]
     },
     "execution_count": 12,
     "metadata": {},
     "output_type": "execute_result"
    }
   ],
   "source": [
    "'''Cálculo de la mediana entre los casos postivos por prefectura agrupada'''\n",
    "gra_median = df.Valor.median()\n",
    "'''Imprime el valor de la mediana por cada prefectura'''\n",
    "gra_median"
   ]
  },
  {
   "cell_type": "markdown",
   "id": "7d75ce77",
   "metadata": {},
   "source": [
    "# Moda"
   ]
  },
  {
   "cell_type": "code",
   "execution_count": 13,
   "id": "79a8aa5a",
   "metadata": {},
   "outputs": [
    {
     "data": {
      "text/plain": [
       "1392730000"
      ]
     },
     "execution_count": 13,
     "metadata": {},
     "output_type": "execute_result"
    }
   ],
   "source": [
    "'''Cálculo de la moda entre los casos postivos por prefectura agrupada'''\n",
    "gra_moda = df.Valor.agg(mode)\n",
    "'''Imprime el valor de la moda por cada prefectura'''\n",
    "gra_moda"
   ]
  },
  {
   "cell_type": "markdown",
   "id": "4d528d9c",
   "metadata": {},
   "source": [
    "# Medidas de Dispersción"
   ]
  },
  {
   "cell_type": "markdown",
   "id": "376fb7fe",
   "metadata": {},
   "source": [
    "## Desviación Estándar"
   ]
  },
  {
   "cell_type": "code",
   "execution_count": 14,
   "id": "0376fd75",
   "metadata": {},
   "outputs": [
    {
     "data": {
      "text/plain": [
       "148012775.0"
      ]
     },
     "execution_count": 14,
     "metadata": {},
     "output_type": "execute_result"
    }
   ],
   "source": [
    "'''Cálculo de la desviación estándar entre los casos postivos por prefectura agrupada con valores redondeados a 2'''\n",
    "gra_std = np.round(df.Valor.std(),1)\n",
    "'''Imprime el valor de la desviación estándar por cada prefectura'''\n",
    "gra_std"
   ]
  },
  {
   "cell_type": "markdown",
   "id": "0590a2b0",
   "metadata": {},
   "source": [
    "## Varianza"
   ]
  },
  {
   "cell_type": "code",
   "execution_count": 15,
   "id": "6d457f0b",
   "metadata": {},
   "outputs": [
    {
     "data": {
      "text/plain": [
       "2.1907781555049744e+16"
      ]
     },
     "execution_count": 15,
     "metadata": {},
     "output_type": "execute_result"
    }
   ],
   "source": [
    "'''Cálculo de la varianza entre los casos postivos por prefectura agrupada con valores redondeados a 2'''\n",
    "gra_var = np.round(df.Valor.var(),1)\n",
    "'''Imprime el valor de la varianza por cada prefectura'''\n",
    "gra_var"
   ]
  },
  {
   "cell_type": "markdown",
   "id": "3c552fd8",
   "metadata": {},
   "source": [
    "### Desviación media"
   ]
  },
  {
   "cell_type": "code",
   "execution_count": 16,
   "id": "71a9847d",
   "metadata": {},
   "outputs": [
    {
     "data": {
      "text/plain": [
       "50923121.5"
      ]
     },
     "execution_count": 16,
     "metadata": {},
     "output_type": "execute_result"
    }
   ],
   "source": [
    "'''Cálculo de la varianza entre los casos postivos por prefectura agrupada con valores redondeados a 2'''\n",
    "gra_var = np.round(df.Valor.mad(),1)\n",
    "'''Imprime el valor de la varianza por cada prefectura'''\n",
    "gra_var"
   ]
  },
  {
   "cell_type": "markdown",
   "id": "96727887",
   "metadata": {},
   "source": [
    "# Medidas de Posición"
   ]
  },
  {
   "cell_type": "markdown",
   "id": "0612cdce",
   "metadata": {},
   "source": [
    "## Cuartiles"
   ]
  },
  {
   "cell_type": "markdown",
   "id": "f15bd384",
   "metadata": {},
   "source": [
    "### Primer cuartil"
   ]
  },
  {
   "cell_type": "code",
   "execution_count": 17,
   "id": "facecb37",
   "metadata": {},
   "outputs": [
    {
     "data": {
      "text/plain": [
       "2743863.0"
      ]
     },
     "execution_count": 17,
     "metadata": {},
     "output_type": "execute_result"
    }
   ],
   "source": [
    "'''Cálculo del primer cuartil entre los casos postivos por prefectura agrupada'''\n",
    "gra_qua1 = np.round(df.Valor.quantile(.25),1)\n",
    "'''Imprime el valor del primer quartil por cada prefectura'''\n",
    "gra_qua1"
   ]
  },
  {
   "cell_type": "markdown",
   "id": "9e1f84e5",
   "metadata": {},
   "source": [
    "### Segundo cuartil"
   ]
  },
  {
   "cell_type": "code",
   "execution_count": 18,
   "id": "450a4506",
   "metadata": {},
   "outputs": [
    {
     "data": {
      "text/plain": [
       "9630959.0"
      ]
     },
     "execution_count": 18,
     "metadata": {},
     "output_type": "execute_result"
    }
   ],
   "source": [
    "'''Cálculo del primer cuartil entre los casos postivos por prefectura agrupada'''\n",
    "gra_qua2 = np.round(df.Valor.quantile(.50),1)\n",
    "'''Imprime el valor del primer quartil por cada prefectura'''\n",
    "gra_qua2"
   ]
  },
  {
   "cell_type": "markdown",
   "id": "c87b1300",
   "metadata": {},
   "source": [
    "### Tercer cuartil"
   ]
  },
  {
   "cell_type": "code",
   "execution_count": 19,
   "id": "aa9de8aa",
   "metadata": {},
   "outputs": [
    {
     "data": {
      "text/plain": [
       "29631535.0"
      ]
     },
     "execution_count": 19,
     "metadata": {},
     "output_type": "execute_result"
    }
   ],
   "source": [
    "'''Cálculo del primer cuartil entre los casos postivos por prefectura agrupada'''\n",
    "gra_qua3 = np.round(df.Valor.quantile(.75),1)\n",
    "'''Imprime el valor del primer quartil por cada prefectura'''\n",
    "gra_qua3"
   ]
  },
  {
   "cell_type": "markdown",
   "id": "2b4ba5d3",
   "metadata": {},
   "source": [
    "## Quintiles"
   ]
  },
  {
   "cell_type": "markdown",
   "id": "12e9cadf",
   "metadata": {},
   "source": [
    "### Primer Quantil"
   ]
  },
  {
   "cell_type": "code",
   "execution_count": 20,
   "id": "cf58a53d",
   "metadata": {},
   "outputs": [
    {
     "data": {
      "text/plain": [
       "1895455.0"
      ]
     },
     "execution_count": 20,
     "metadata": {},
     "output_type": "execute_result"
    }
   ],
   "source": [
    "'''Cálculo del primer cuartil entre los casos postivos por prefectura agrupada'''\n",
    "gra_qui1 = np.round(df.Valor.quantile(.20),1)\n",
    "'''Imprime el valor del primer quartil por cada prefectura'''\n",
    "gra_qui1"
   ]
  },
  {
   "cell_type": "markdown",
   "id": "d076ff76",
   "metadata": {},
   "source": [
    "### Segundo Quintil"
   ]
  },
  {
   "cell_type": "code",
   "execution_count": 21,
   "id": "e0bbbdfa",
   "metadata": {},
   "outputs": [
    {
     "data": {
      "text/plain": [
       "6216967.2"
      ]
     },
     "execution_count": 21,
     "metadata": {},
     "output_type": "execute_result"
    }
   ],
   "source": [
    "'''Cálculo del primer cuartil entre los casos postivos por prefectura agrupada'''\n",
    "gra_qui2 = np.round(df.Valor.quantile(.40),1)\n",
    "'''Imprime el valor del primer quartil por cada prefectura'''\n",
    "gra_qui2"
   ]
  },
  {
   "cell_type": "markdown",
   "id": "d309bd91",
   "metadata": {},
   "source": [
    "### Tercer Quintil"
   ]
  },
  {
   "cell_type": "code",
   "execution_count": 22,
   "id": "3f7b6786",
   "metadata": {},
   "outputs": [
    {
     "data": {
      "text/plain": [
       "12819258.0"
      ]
     },
     "execution_count": 22,
     "metadata": {},
     "output_type": "execute_result"
    }
   ],
   "source": [
    "'''Cálculo del primer cuartil entre los casos postivos por prefectura agrupada'''\n",
    "gra_qui3 = np.round(df.Valor.quantile(.60),1)\n",
    "'''Imprime el valor del primer quartil por cada prefectura'''\n",
    "gra_qui3"
   ]
  },
  {
   "cell_type": "markdown",
   "id": "cd8f9124",
   "metadata": {},
   "source": [
    "### Cuarto Quintil"
   ]
  },
  {
   "cell_type": "code",
   "execution_count": 23,
   "id": "c59f496b",
   "metadata": {},
   "outputs": [
    {
     "data": {
      "text/plain": [
       "37653804.4"
      ]
     },
     "execution_count": 23,
     "metadata": {},
     "output_type": "execute_result"
    }
   ],
   "source": [
    "'''Cálculo del primer cuartil entre los casos postivos por prefectura agrupada'''\n",
    "gra_qui4 = np.round(df.Valor.quantile(.80),1)\n",
    "'''Imprime el valor del primer quartil por cada prefectura'''\n",
    "gra_qui4"
   ]
  },
  {
   "cell_type": "markdown",
   "id": "f5ae30df",
   "metadata": {},
   "source": [
    "## Déciles"
   ]
  },
  {
   "cell_type": "code",
   "execution_count": 24,
   "id": "cba57cd3",
   "metadata": {},
   "outputs": [
    {
     "data": {
      "text/plain": [
       "550211.8"
      ]
     },
     "execution_count": 24,
     "metadata": {},
     "output_type": "execute_result"
    }
   ],
   "source": [
    "'''Cálculo del primer cuartil entre los casos postivos por prefectura agrupada'''\n",
    "gra_quad = np.round(df.Valor.quantile(.10),1)\n",
    "'''Imprime el valor del primer quartil por cada prefectura'''\n",
    "gra_quad"
   ]
  }
 ],
 "metadata": {
  "kernelspec": {
   "display_name": "Python 3 (ipykernel)",
   "language": "python",
   "name": "python3"
  },
  "language_info": {
   "codemirror_mode": {
    "name": "ipython",
    "version": 3
   },
   "file_extension": ".py",
   "mimetype": "text/x-python",
   "name": "python",
   "nbconvert_exporter": "python",
   "pygments_lexer": "ipython3",
   "version": "3.9.12"
  }
 },
 "nbformat": 4,
 "nbformat_minor": 5
}
